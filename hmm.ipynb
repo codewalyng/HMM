{
 "cells": [
  {
   "cell_type": "code",
   "execution_count": 1,
   "id": "619dd6e7",
   "metadata": {},
   "outputs": [],
   "source": [
    "#Import\n",
    "import numpy as np\n",
    "import string\n",
    "import pandas as pd\n",
    "from matplotlib import pyplot as plt\n",
    "import random\n",
    "import warnings\n",
    "warnings.filterwarnings(\"ignore\")"
   ]
  },
  {
   "cell_type": "markdown",
   "id": "2b543268",
   "metadata": {},
   "source": [
    "#### 1.1 Quelques outils"
   ]
  },
  {
   "cell_type": "code",
   "execution_count": 2,
   "id": "ccd2db46",
   "metadata": {},
   "outputs": [
    {
     "name": "stdout",
     "output_type": "stream",
     "text": [
      "Shape of E is :  (28, 28)\n"
     ]
    }
   ],
   "source": [
    "# Chargement de la matrice de transition pour English\n",
    "E=np.loadtxt('bigramenglish.txt')\n",
    "print(\"Shape of E is : \", E.shape)"
   ]
  },
  {
   "cell_type": "markdown",
   "id": "5094329a",
   "metadata": {},
   "source": [
    "Dictionnaire clés-valeur associant les états qui sont des nombres entiers aux caractères"
   ]
  },
  {
   "cell_type": "code",
   "execution_count": 3,
   "id": "80419c50",
   "metadata": {},
   "outputs": [
    {
     "name": "stdout",
     "output_type": "stream",
     "text": [
      "{1: ' ', 2: 'a', 3: 'b', 4: 'c', 5: 'd', 6: 'e', 7: 'f', 8: 'g', 9: 'h', 10: 'i', 11: 'j', 12: 'k', 13: 'l', 14: 'm', 15: 'n', 16: 'o', 17: 'p', 18: 'q', 19: 'r', 20: 's', 21: 't', 22: 'u', 23: 'v', 24: 'w', 25: 'x', 26: 'y', 27: 'z', 28: ' '}\n"
     ]
    }
   ],
   "source": [
    "#Dictionnaire \n",
    "key_list= list(range(1,29))\n",
    "value_list =[\" \"]+list(string.ascii_lowercase)+[\" \"]\n",
    "dic={k:v for k,v in zip(key_list,value_list)}\n",
    "\n",
    "print(dic)"
   ]
  },
  {
   "cell_type": "markdown",
   "id": "469fc719",
   "metadata": {},
   "source": [
    "Inversion du dictionnaire"
   ]
  },
  {
   "cell_type": "code",
   "execution_count": 4,
   "id": "e1fc8690",
   "metadata": {},
   "outputs": [
    {
     "name": "stdout",
     "output_type": "stream",
     "text": [
      "{' ': [1, 28], 'a': 2, 'b': 3, 'c': 4, 'd': 5, 'e': 6, 'f': 7, 'g': 8, 'h': 9, 'i': 10, 'j': 11, 'k': 12, 'l': 13, 'm': 14, 'n': 15, 'o': 16, 'p': 17, 'q': 18, 'r': 19, 's': 20, 't': 21, 'u': 22, 'v': 23, 'w': 24, 'x': 25, 'y': 26, 'z': 27}\n"
     ]
    }
   ],
   "source": [
    "#A remarquer que les clés 1 et 28 ont la même valeur qui est un espace\n",
    "dic_inv={k:v for v,k in dic.items()}\n",
    "dic_inv[' ']=[1,28]\n",
    "print(dic_inv)"
   ]
  },
  {
   "cell_type": "markdown",
   "id": "05ae00d6",
   "metadata": {},
   "source": [
    "#### 1.2 Chaînes de Markov"
   ]
  },
  {
   "cell_type": "markdown",
   "id": "d3ee9303",
   "metadata": {},
   "source": [
    "On veut générer des mots dans une langue donnée en modélisant la formation de ces mots par\n",
    "une chaîne de Markov. Les 28 états du modèle correspondent aux 26 lettres de l’alphabet\n",
    "auxquelles et on ajoute un état ‘espace initial’ (état 1) et un état ‘espace final’ (état 28) qui\n",
    "sert à terminer les mots.\n",
    "\n",
    "La correspondance entre la valeur numérique d’un état et un caractère est la suivante : l’état 1\n",
    "correspond à un espace (avant le début d’un mot) et l’état 28 à celui d’un espace en fin dmot. Les états 2 à 27 correspondent aux caractères de a à z. On pourra utiliser une structure de\n",
    "dictionnaire en python pour faire cette correspondance.\n",
    "\n",
    "On utilisera une chaîne de Markov ergodique entre les 26 états correspondants aux lettres de\n",
    "l’alphabet."
   ]
  },
  {
   "cell_type": "markdown",
   "id": "87ee02ac",
   "metadata": {},
   "source": [
    "### 1.2.a Matrice de transitions"
   ]
  },
  {
   "cell_type": "markdown",
   "id": "25b50239",
   "metadata": {},
   "source": [
    "'bigramenglish.txt' contient la matrice des transitions pour l’anglais (bigrams) entre deux\n",
    "symboles (caractères ou espaces). Le terme générique (i,j) de la matrice de transition\n",
    "correspond à la probabilité de transiter vers l’état j à partir de l’état i.\n",
    "\n",
    "A quelles probabilités correspond la première ligne de la matrice de transition ? et celles de la\n",
    "dernière colonne ?\n",
    "\n",
    "Pour chaque lettre de l’alphabet, indiquer la transition la plus fréquente depuis cette lettre. "
   ]
  },
  {
   "cell_type": "code",
   "execution_count": 5,
   "id": "1e47a680",
   "metadata": {},
   "outputs": [
    {
     "name": "stdout",
     "output_type": "stream",
     "text": [
      "Première ligne de E :\n",
      " [0.0000000e+00 1.1268720e-01 4.3608943e-02 4.5454545e-02 3.2904451e-02\n",
      " 2.2094495e-02 4.1763341e-02 1.5555790e-02 6.4437882e-02 6.8920059e-02\n",
      " 3.6384729e-03 4.2185193e-03 2.3465514e-02 3.9759544e-02 2.2832736e-02\n",
      " 7.0343809e-02 3.1058848e-02 1.4237503e-03 2.5680236e-02 6.6916262e-02\n",
      " 1.6452225e-01 1.0388104e-02 7.0660198e-03 7.0502004e-02 1.0546298e-04\n",
      " 1.0599030e-02 5.2731491e-05 0.0000000e+00] \n",
      "\n",
      "La transition depuis 'etat initial' la plus problable est: état 21 \n",
      "\n"
     ]
    }
   ],
   "source": [
    "# Etude de la première ligne de bigramenglish\n",
    "print(\"Première ligne de E :\\n\", E[0, :], \"\\n\")\n",
    "print(\"La transition depuis 'etat initial' la plus problable est: état\", np.argmax(E[0, :])+1, \"\\n\")"
   ]
  },
  {
   "cell_type": "markdown",
   "id": "ad8c9e75",
   "metadata": {},
   "source": [
    "La première ligne de la matrice de transition correspond aux probabilités de passer de l'état initial qui est un  espace à  un des 28 états possible(espace/caractère)."
   ]
  },
  {
   "cell_type": "markdown",
   "id": "0f47efea",
   "metadata": {},
   "source": [
    "Remarque: On remarque ici que les premier et dernier élément de cette ligne sont nuls: cela veut dire qu'il est impossible pour un mot, d'avoir un espace initial (état 1) suivi par un autre espace initial (état 1) ou par un espace final (état 28)."
   ]
  },
  {
   "cell_type": "code",
   "execution_count": 6,
   "id": "fa1eb468",
   "metadata": {},
   "outputs": [
    {
     "name": "stdout",
     "output_type": "stream",
     "text": [
      "Dernière colonne de E :\n",
      " [0.0000000e+00 6.7478169e-02 7.1084433e-03 1.9535224e-02 5.9884373e-01\n",
      " 3.6047379e-01 3.9653963e-01 3.1566736e-01 1.0300926e-01 2.4606608e-02\n",
      " 9.5877277e-04 3.7225637e-01 1.5338255e-01 1.5795761e-01 2.9421872e-01\n",
      " 1.2308174e-01 6.4222084e-02 1.3966480e-03 2.1088912e-01 4.3030156e-01\n",
      " 2.2273059e-01 3.8466582e-02 9.9108028e-05 1.0216281e-01 1.2345679e-01\n",
      " 7.7582944e-01 1.9193858e-03 1.0000000e+00] \n",
      "\n",
      "La transition précédant 'etat final' la plus problable est : état 26\n",
      " (mis à part la transition 'etat final' -> 'etat final', qui se fait avec proba=1).\n"
     ]
    }
   ],
   "source": [
    "# Etude de la dernière colonne de bigramenglish\n",
    "print(\"Dernière colonne de E :\\n\", E[:, -1], \"\\n\")\n",
    "print(\"La transition précédant 'etat final' la plus problable est : état\", np.argmax(E[1:27, -1])+2)\n",
    "print(\" (mis à part la transition 'etat final' -> 'etat final', qui se fait avec proba=1).\")"
   ]
  },
  {
   "cell_type": "markdown",
   "id": "59af99a3",
   "metadata": {},
   "source": [
    "La dernière colonne de la matrice de transition correspond aux probabilités de passer d'un des 28 états possibles(espace/caractère) à l'état final qui est un espace."
   ]
  },
  {
   "cell_type": "markdown",
   "id": "5b47c8c5",
   "metadata": {},
   "source": [
    "Remarque:On remarque qu'un 'etat final' (espace) ne peut êtr précédé d'un 'etat initial' (espace)."
   ]
  },
  {
   "cell_type": "code",
   "execution_count": 7,
   "id": "5e9e0ea9",
   "metadata": {},
   "outputs": [
    {
     "name": "stdout",
     "output_type": "stream",
     "text": [
      "Transition la plus fréquente depuis chaque lettre :\n",
      "La transition la plus probable à partir de la lettre a est l'etat 15\n",
      "La transition la plus probable à partir de la lettre b est l'etat 6\n",
      "La transition la plus probable à partir de la lettre c est l'etat 16\n",
      "La transition la plus probable à partir de la lettre d est l'etat 28\n",
      "La transition la plus probable à partir de la lettre e est l'etat 28\n",
      "La transition la plus probable à partir de la lettre f est l'etat 28\n",
      "La transition la plus probable à partir de la lettre g est l'etat 28\n",
      "La transition la plus probable à partir de la lettre h est l'etat 6\n",
      "La transition la plus probable à partir de la lettre i est l'etat 15\n",
      "La transition la plus probable à partir de la lettre j est l'etat 16\n",
      "La transition la plus probable à partir de la lettre k est l'etat 28\n",
      "La transition la plus probable à partir de la lettre l est l'etat 6\n",
      "La transition la plus probable à partir de la lettre m est l'etat 6\n",
      "La transition la plus probable à partir de la lettre n est l'etat 28\n",
      "La transition la plus probable à partir de la lettre o est l'etat 15\n",
      "La transition la plus probable à partir de la lettre p est l'etat 6\n",
      "La transition la plus probable à partir de la lettre q est l'etat 22\n",
      "La transition la plus probable à partir de la lettre r est l'etat 6\n",
      "La transition la plus probable à partir de la lettre s est l'etat 28\n",
      "La transition la plus probable à partir de la lettre t est l'etat 9\n",
      "La transition la plus probable à partir de la lettre u est l'etat 19\n",
      "La transition la plus probable à partir de la lettre v est l'etat 6\n",
      "La transition la plus probable à partir de la lettre w est l'etat 2\n",
      "La transition la plus probable à partir de la lettre x est l'etat 21\n",
      "La transition la plus probable à partir de la lettre y est l'etat 28\n",
      "La transition la plus probable à partir de la lettre z est l'etat 6\n"
     ]
    }
   ],
   "source": [
    "# Pour chaque lettre de l’alphabet, indiquer la transition la plus fréquente depuis cette lettre\n",
    "\n",
    "print('Transition la plus fréquente depuis chaque lettre :')\n",
    "\n",
    "most_probable_next_state = np.argmax(E[1:27, :], axis=1) + 1\n",
    "\n",
    "for idx, lettre in enumerate(list(string.ascii_lowercase)):\n",
    "    most_probable = most_probable_next_state[idx]\n",
    "    print(\"La transition la plus probable à partir de la lettre %s est l'etat %s\" %(lettre,most_probable))"
   ]
  },
  {
   "cell_type": "markdown",
   "id": "a706151b",
   "metadata": {},
   "source": [
    "#### 1.2.b Ecrire une fonction etat_suivant qui génère un état (à t+1) à partir de l’état courant (à t) et à l’aide de la matrice de transitions et de la fonction de répartition."
   ]
  },
  {
   "cell_type": "code",
   "execution_count": 8,
   "id": "7ed310f9",
   "metadata": {},
   "outputs": [],
   "source": [
    "def etat_suivant(q_t, E):\n",
    "    \n",
    "    assert(q_t >= 1 and q_t <= E.shape[0])  # Verification que q_t est bien un état existant\n",
    "    \n",
    "    # Somme cumulée des transitions pour l'état q_t\n",
    "    fonctrep_E_q_t = np.cumsum(E[q_t-1])  # -1 car index de E = 0...27 \n",
    "    \n",
    "    # Tirage d'un nombre aléatoire dans [0,1] selon une loi uniforme\n",
    "    r = np.random.random()\n",
    "    \n",
    "    # Trouve la transition correspondante\n",
    "    q_tplus1 = sum((fonctrep_E_q_t < r)) + 1\n",
    "    \n",
    "    return q_tplus1"
   ]
  },
  {
   "cell_type": "code",
   "execution_count": 9,
   "id": "cb42919e",
   "metadata": {},
   "outputs": [
    {
     "data": {
      "text/plain": [
       "19"
      ]
     },
     "execution_count": 9,
     "metadata": {},
     "output_type": "execute_result"
    }
   ],
   "source": [
    "#On peut tester la fonction avec l'état 6 (la lettre 'e')\n",
    "etat_suivant(6,E)"
   ]
  },
  {
   "cell_type": "markdown",
   "id": "e2435d58",
   "metadata": {},
   "source": [
    "Afficher sur un graphique la fonction de répartition pour une ligne de la matrice de transition\n",
    "et expliquer son rôle pour la génération de l’état à t+1."
   ]
  },
  {
   "cell_type": "code",
   "execution_count": 10,
   "id": "152b79b2",
   "metadata": {},
   "outputs": [
    {
     "name": "stdout",
     "output_type": "stream",
     "text": [
      "Etat courant : 8\n",
      "Somme cumulative pour l'état 8 : \n",
      "[0.         0.06594212 0.06655269 0.06661375 0.06905605 0.19727683\n",
      " 0.19733789 0.20954939 0.34509708 0.40798632 0.40804738 0.40810844\n",
      " 0.43619489 0.43741605 0.4606179  0.52900232 0.52961289 0.52967395\n",
      " 0.6267554  0.65301013 0.65911589 0.68048602 0.68054707 0.68115765\n",
      " 0.68121871 0.68427158 0.68433264 1.        ]\n",
      "\n",
      "Nombre aléatoire dans [0,1] : r = 0.15816734611728656\n"
     ]
    },
    {
     "data": {
      "image/png": "[encoded data removed]",
      "text/plain": [
       "<Figure size 792x360 with 1 Axes>"
      ]
     },
     "metadata": {
      "needs_background": "light"
     },
     "output_type": "display_data"
    },
    {
     "name": "stdout",
     "output_type": "stream",
     "text": [
      "  ===> Etat suivant : 6\n"
     ]
    }
   ],
   "source": [
    "# Choisir aléatoirement un etat initial\n",
    "listetat=list(dic.keys())\n",
    "q_t=random.choice(listetat)\n",
    "# Somme cumulée\n",
    "fonctrep_E_q_t  = np.cumsum(E[q_t-1]) \n",
    "# Tirage aléatoire d'un nombre compris entre 0 et 1\n",
    "r = np.random.random()\n",
    "\n",
    "# Trouve l'état suivant\n",
    "q_tplus1 = sum((fonctrep_E_q_t  < r)) + 1\n",
    "\n",
    "\n",
    "# Affichage\n",
    "print(\"Etat courant :\", q_t)\n",
    "print(\"Somme cumulative pour l'état %s : \\n%s\\n\" % (q_t, fonctrep_E_q_t ))\n",
    "print(\"Nombre aléatoire dans [0,1] : r =\", r)\n",
    "\n",
    "#plot\n",
    "f, ax = plt.subplots(figsize=(11,5))\n",
    "ax.plot(np.arange(1, 29), fonctrep_E_q_t )\n",
    "ax.annotate(\"r\", xy=(q_tplus1, r), xytext=(-5, r), arrowprops=dict(arrowstyle=\"->\"))\n",
    "ax.annotate(\"\", xy=(q_tplus1, 0), xytext=(q_tplus1, r), arrowprops=dict(arrowstyle=\"->\"))\n",
    "plt.title(\"Fonction de répartition de la transition depuis l'état %s (lettre %s)\" % (q_t, dic[q_t]))\n",
    "plt.xlabel(\"Etat\")\n",
    "plt.show()\n",
    "\n",
    "print(\"  ===> Etat suivant :\", q_tplus1)"
   ]
  },
  {
   "cell_type": "markdown",
   "id": "7b772d3a",
   "metadata": {},
   "source": [
    "##### Explication du rôle de la la fonction de répartition pour une ligne de la matrice de transition pour la génération de l’état à t+1."
   ]
  },
  {
   "cell_type": "markdown",
   "id": "9a21fb80",
   "metadata": {},
   "source": [
    "On affiche la somme cumulée des termes de E pour la ligne correspondant à l'état courant q_t choisi ici aléatoirement.\n",
    "\n",
    "On tire aléatoirement un nombre r entre 0 et 1.\n",
    "\n",
    "L'etat suivant est l'etat juste à droite de l'antécédent de r par la fonction de répartition.\n"
   ]
  },
  {
   "cell_type": "markdown",
   "id": "b9391d24",
   "metadata": {},
   "source": [
    "Utiliser cette fonction pour écrire la fonction genere_state_seq qui génère une séquence d’états jusqu’à aboutir à l’état final (28)"
   ]
  },
  {
   "cell_type": "code",
   "execution_count": 11,
   "id": "f97ba60e",
   "metadata": {},
   "outputs": [],
   "source": [
    "def genere_state_seq(E):\n",
    "    # création d'une liste commencant par l'état inital\n",
    "    seq = [1]  \n",
    "    # Génération des états suivants jusqu'à tomber sur l'état final\n",
    "    while seq[-1] != E.shape[0]:\n",
    "        next_state = etat_suivant(seq[-1], E)\n",
    "        seq.append(next_state)\n",
    "    return seq"
   ]
  },
  {
   "cell_type": "code",
   "execution_count": 12,
   "id": "92db8218",
   "metadata": {},
   "outputs": [
    {
     "data": {
      "text/plain": [
       "[1, 9, 2, 15, 28]"
      ]
     },
     "execution_count": 12,
     "metadata": {},
     "output_type": "execute_result"
    }
   ],
   "source": [
    "# Test\n",
    "genere_state_seq(E)"
   ]
  },
  {
   "cell_type": "markdown",
   "id": "5baee47a",
   "metadata": {},
   "source": [
    "Ecrire une fonction display_seq qui transforme une séquence d’états en séquence de caractères, à l’aide d’un dictionnaire."
   ]
  },
  {
   "cell_type": "code",
   "execution_count": 13,
   "id": "02de6ec9",
   "metadata": {},
   "outputs": [],
   "source": [
    "def display_seq(state_seq, dic):\n",
    "    char_seq = [dic[q] for q in state_seq]\n",
    "    return char_seq"
   ]
  },
  {
   "cell_type": "markdown",
   "id": "59bd8f8c",
   "metadata": {},
   "source": [
    " Utiliser ces fonctions pour générer des mots et donner des exemples de mots générés."
   ]
  },
  {
   "cell_type": "code",
   "execution_count": null,
   "id": "ea674c32",
   "metadata": {},
   "outputs": [],
   "source": []
  },
  {
   "cell_type": "code",
   "execution_count": 14,
   "id": "28b5a71f",
   "metadata": {},
   "outputs": [
    {
     "name": "stdout",
     "output_type": "stream",
     "text": [
      "Exemples de 4 mot(s) généré(s) :\n",
      "La suite  [1, 5, 28] génère le mot:  d \n",
      "La suite  [1, 2, 22, 21, 28] génère le mot:  aut \n",
      "La suite  [1, 14, 16, 21, 9, 2, 13, 6, 28] génère le mot:  mothale \n",
      "La suite  [1, 21, 20, 21, 9, 6, 20, 28] génère le mot:  tsthes \n"
     ]
    }
   ],
   "source": [
    "# Test de génération de mots\n",
    "nb_mots = random.randint(1,15)  # Choisir un nombre aléatoire qui est le nombre de mots à générer\n",
    "\n",
    "print(\"Exemples de %s mot(s) généré(s) :\" % nb_mots)\n",
    "for i in range(nb_mots):\n",
    "    state_seq = genere_state_seq(E)\n",
    "    char_seq = display_seq(state_seq, dic)\n",
    "    mot=''.join(char_seq)\n",
    "    print(\"La suite  %s génère le mot: %s\" %(state_seq, mot))"
   ]
  },
  {
   "cell_type": "markdown",
   "id": "88e4f059",
   "metadata": {},
   "source": [
    "### 1.2.c Génération de phrases"
   ]
  },
  {
   "cell_type": "markdown",
   "id": "8dee6c4e",
   "metadata": {},
   "source": [
    "Créer un état final de phrase (état 29,correspondant au caractère . ) dont la probabilité de transition vers cet état depuis un état final de mot est 0.1.\n",
    " Ecrire une fonction modifie_mat_dic qui modifie la matrice de transition et le dictionnaire en conséquence. Donner des exemples de phrases générées."
   ]
  },
  {
   "cell_type": "code",
   "execution_count": 15,
   "id": "7df12f07",
   "metadata": {},
   "outputs": [
    {
     "name": "stdout",
     "output_type": "stream",
     "text": [
      "{1: ' ', 2: 'a', 3: 'b', 4: 'c', 5: 'd', 6: 'e', 7: 'f', 8: 'g', 9: 'h', 10: 'i', 11: 'j', 12: 'k', 13: 'l', 14: 'm', 15: 'n', 16: 'o', 17: 'p', 18: 'q', 19: 'r', 20: 's', 21: 't', 22: 'u', 23: 'v', 24: 'w', 25: 'x', 26: 'y', 27: 'z', 28: ' ', 29: '.'}\n"
     ]
    }
   ],
   "source": [
    "#Création du nouveau dictionnaire par ajout d'un état ('etat final de phrase')\n",
    "dic_new = dic.copy()\n",
    "dic_new[29]='.'\n",
    "print(dic_new)"
   ]
  },
  {
   "cell_type": "code",
   "execution_count": null,
   "id": "9208877d",
   "metadata": {},
   "outputs": [],
   "source": []
  },
  {
   "cell_type": "code",
   "execution_count": 16,
   "id": "871c2898",
   "metadata": {},
   "outputs": [],
   "source": [
    "def modifie_mat_dic(E, dic): \n",
    "    # Modification de E\n",
    "    E_new = np.zeros((E.shape[0]+1, E.shape[1]+1))\n",
    "    \n",
    "    # on garde identique les 27 premières lignes de E (transitions depuis état initial + \n",
    "    #les 26 lettres de l'alphabet)\n",
    "    E_new[0:27, 0:28] = E[0:27, 0:28]\n",
    "    \n",
    "    # on passe a_28,29 à 0.1 (proba de passer d'un 'état final de mot' à un 'état final de phrase')\n",
    "    E_new[27, 28] = 0.1\n",
    "    \n",
    "    # on passe a_28,1 à 1-0.1=0.9 (proba de passer d'un 'état final de mot' à un 'état initial de mot')\n",
    "    E_new[27, 0] = 0.9\n",
    "    \n",
    "    # on passe a_29,29 à 1 (proba de passer d'un 'état final de phrase' à un 'état final de phrase')\n",
    "    E_new[-1, -1] = 1\n",
    "    \n",
    "    return E_new, dic_new"
   ]
  },
  {
   "cell_type": "code",
   "execution_count": 17,
   "id": "a36d534d",
   "metadata": {},
   "outputs": [
    {
     "data": {
      "text/plain": [
       "(29, 29)"
      ]
     },
     "execution_count": 17,
     "metadata": {},
     "output_type": "execute_result"
    }
   ],
   "source": [
    "E_new, dic_new=modifie_mat_dic(E, dic)\n",
    "E_new.shape"
   ]
  },
  {
   "cell_type": "code",
   "execution_count": 18,
   "id": "d39ca6bb",
   "metadata": {},
   "outputs": [
    {
     "name": "stdout",
     "output_type": "stream",
     "text": [
      "Affichage de 14 phrases : \n",
      " akeaw  onenout  oud  cheat  t  mimathis  n  acerillasmbereroioffrtherareand  f  oni  avede .  \n",
      "\n",
      " kean  he  ld  rdibe  ousathe  c  lawl  of .  \n",
      "\n",
      " u .  \n",
      "\n",
      " wantiouticabofilroutohe  ileaminlderiok  cher  fisms  end  an  os  ls  ten  ly  f  pe  ce  ay  is  bere  id  ohe  f  s  pame  chi  r  w  dutit  chofingn  te  ct  hed  m .  \n",
      "\n",
      " ithed  tetare .  \n",
      "\n",
      " ct  rg .  \n",
      "\n",
      " ast  in .  \n",
      "\n",
      " thesed  huthece  a  m  he  gn  mains  as  the  ingad  ndd  expethugat  frithm  sus  t .  \n",
      "\n",
      " hatrd  the  thevie .  \n",
      "\n",
      " fe  waborald  sof .  \n",
      "\n",
      " ag  nis  car  is  twherepar  folyoforsttheinthase .  \n",
      "\n",
      " onoiomint  t .  \n",
      "\n",
      " ft .  \n",
      "\n",
      " acor  t  are  o  f  hng  rred  hechely  araintl  haveacede  s  hr  safthivis  athereriodyoof  corld  tomand  s .  \n",
      "\n"
     ]
    }
   ],
   "source": [
    "#Exemple de phrases générées\n",
    "nb_2_phrases = random.randint(1,15)  # Choisir un nombre aléatoire qui est le nombre de phrases à générer\n",
    "print(\"Affichage de %s phrases : \" % nb_2_phrases)\n",
    "for i in range(nb_2_phrases):\n",
    "    char_seq = display_seq(genere_state_seq(E_new), dic_new)\n",
    "    phrase=''.join(char_seq)\n",
    "    print(\"%s  \\n\" % phrase)"
   ]
  },
  {
   "cell_type": "markdown",
   "id": "f602f523",
   "metadata": {},
   "source": [
    "### 1.3. Reconnaissance de la langue"
   ]
  },
  {
   "cell_type": "code",
   "execution_count": 19,
   "id": "46864bef",
   "metadata": {},
   "outputs": [
    {
     "name": "stdout",
     "output_type": "stream",
     "text": [
      "La matrice F a pour dimensions :  (28, 28)\n"
     ]
    }
   ],
   "source": [
    "# Chargement de la matrice de transition pour English\n",
    "F=np.loadtxt('bigramfrancais.txt')\n",
    "print(\"La matrice F a pour dimensions : \", F.shape)"
   ]
  },
  {
   "cell_type": "code",
   "execution_count": 20,
   "id": "e2c0b54a",
   "metadata": {},
   "outputs": [
    {
     "data": {
      "text/plain": [
       "(29, 29)"
      ]
     },
     "execution_count": 20,
     "metadata": {},
     "output_type": "execute_result"
    }
   ],
   "source": [
    "#Nouvelle matrice de transition pour le français\n",
    "F_new, dic_new=modifie_mat_dic(F, dic)\n",
    "F_new.shape"
   ]
  },
  {
   "cell_type": "code",
   "execution_count": 21,
   "id": "3908381b",
   "metadata": {},
   "outputs": [
    {
     "name": "stdout",
     "output_type": "stream",
     "text": [
      "Affichage de 10 phrases : \n",
      " de  ls  pa  dexir  ls  u .  \n",
      "\n",
      " naniogre  del  de  ane  n  mum  amecen  liomembu  ele  urierounceletonoiviconcentykx  s  prc  domatiout  le  pes  ylel  lanouens  ces  a .  \n",
      "\n",
      " s  aulerefte  dignt  desontienogempr  s  lines  s  l .  \n",
      "\n",
      " d  curice .  \n",
      "\n",
      " cr  tonnsoiome  u  esacantpanciprebur  delonetens  pe  dogles  aus  de  u .  \n",
      "\n",
      " s  lomomperou  de  deuxede  insoccent  crebives  lle  dourogpam  ans  ll  usalibri  dele  don  apqut  gibies  nenetonc  paje  digrmes  is  letente  at  la  aronet  le  aun  nenon  a  difans  dent  des  gietauetile  pames  cr  clonteple  les  debux  lereis  nisapelele  peves  ut  cit  de .  \n",
      "\n",
      " meurels  demeleureme  ciomeblitiaitaiqu  loueut  couria  deuttribus  lece .  \n",
      "\n",
      " atoncaline  lodr  ales  den  fides  des  purs  ante  l  l  lirammuroures  t  ces  ls  e  pebun .  \n",
      "\n",
      " atys  ctis  pt  patroribrrrogre  d  licerogicux  ourceefoue  dut  dilontileuesis  prcun  drocopachelons  din  e  la  dous .  \n",
      "\n",
      " lis  lle  ussoga  r  nogestibuniroicis  e  cebra  nte  ppa  asocoust  elis  cis  qulere  demeergiciouta  domitrestelironogicanogicesice  ncene  cus  devie  esaurst  le  dieviqu  cicdebpousiorstrerout  esurceurigurive  dex  la  terneurogie  pebuscompr  oiemeliete  de  a  melens  de  pesus  fins  liagacisint  de .  \n",
      "\n"
     ]
    }
   ],
   "source": [
    "#Exemple de phrases générées en anglais\n",
    "nb_2_phrases = random.randint(1,15)  # Choisir un nombre aléatoire qui est le nombre de phrases à générer\n",
    "print(\"Affichage de %s phrases : \" % nb_2_phrases)\n",
    "for i in range(nb_2_phrases):\n",
    "    char_seq = display_seq(genere_state_seq(F_new), dic_new)\n",
    "    phrase=''.join(char_seq)\n",
    "    print(\"%s  \\n\" % phrase)"
   ]
  },
  {
   "cell_type": "code",
   "execution_count": 22,
   "id": "ce0df393",
   "metadata": {},
   "outputs": [
    {
     "name": "stdout",
     "output_type": "stream",
     "text": [
      "{1: '-', 2: 'a', 3: 'b', 4: 'c', 5: 'd', 6: 'e', 7: 'f', 8: 'g', 9: 'h', 10: 'i', 11: 'j', 12: 'k', 13: 'l', 14: 'm', 15: 'n', 16: 'o', 17: 'p', 18: 'q', 19: 'r', 20: 's', 21: 't', 22: 'u', 23: 'v', 24: 'w', 25: 'x', 26: 'y', 27: 'z', 28: '+', 29: '.'}\n"
     ]
    }
   ],
   "source": [
    "#Remplacement des valeurs des états final et initial par les signes - et +\n",
    "dic_vraisemblance=dic_new.copy()\n",
    "dic_vraisemblance[1]='-'\n",
    "dic_vraisemblance[28]='+'\n",
    "print(dic_vraisemblance)"
   ]
  },
  {
   "cell_type": "code",
   "execution_count": null,
   "id": "803b2efd",
   "metadata": {},
   "outputs": [],
   "source": []
  },
  {
   "cell_type": "code",
   "execution_count": 23,
   "id": "5879ae82",
   "metadata": {},
   "outputs": [
    {
     "name": "stdout",
     "output_type": "stream",
     "text": [
      "-to+-be+-or+-not+-to+-be+.\n"
     ]
    }
   ],
   "source": [
    "#Exemple de phrases générées en remplacant les espaces de debut et de fin de mot par - et plus\n",
    "def transforme(sentence):\n",
    "    transformedsentence = '-'\n",
    "    for charac in sentence:\n",
    "        if charac == ' ':\n",
    "            transformedsentence += '+'\n",
    "            transformedsentence += '-'\n",
    "        elif charac == '.':\n",
    "            transformedsentence += '+'\n",
    "            transformedsentence += charac\n",
    "        else:\n",
    "            transformedsentence += charac\n",
    "    return transformedsentence\n",
    "\n",
    "print(transforme(\"to be or not to be.\"))"
   ]
  },
  {
   "cell_type": "code",
   "execution_count": 24,
   "id": "20f7bde9",
   "metadata": {},
   "outputs": [
    {
     "name": "stdout",
     "output_type": "stream",
     "text": [
      "{'-': 1, 'a': 2, 'b': 3, 'c': 4, 'd': 5, 'e': 6, 'f': 7, 'g': 8, 'h': 9, 'i': 10, 'j': 11, 'k': 12, 'l': 13, 'm': 14, 'n': 15, 'o': 16, 'p': 17, 'q': 18, 'r': 19, 's': 20, 't': 21, 'u': 22, 'v': 23, 'w': 24, 'x': 25, 'y': 26, 'z': 27, '+': 28, '.': 29}\n"
     ]
    }
   ],
   "source": [
    "dic_invraisemblance={k:v for v,k in dic_vraisemblance.items()}\n",
    "print(dic_invraisemblance)"
   ]
  },
  {
   "cell_type": "code",
   "execution_count": 25,
   "id": "c6b2ee47",
   "metadata": {},
   "outputs": [],
   "source": [
    "#Ecriture d'une fonction calc_vraisemblance qui calcule la vraisemblance du modèle anglais pour une phrase donnée \n",
    "def calc_vraisemblance(sentence):\n",
    "    #transformation d'une phrase en une suite detat\n",
    "    dic_invraisemblance={k:v for v,k in dic_vraisemblance.items()}\n",
    "    state_seq = [int(dic_invraisemblance[state]) for state in transforme(sentence)]\n",
    "    #Calcul de vraissemblance\n",
    "    vraisemblance = 1 # initialisation\n",
    "    for idx, q_t in enumerate(state_seq[:-1]):\n",
    "        q_tplus1 = state_seq[idx + 1]\n",
    "        vraisemblance *= E_new[q_t-1, q_tplus1-1]   # -1 car l'indexation de E commence à partir de 0\n",
    "    return vraisemblance"
   ]
  },
  {
   "cell_type": "code",
   "execution_count": 26,
   "id": "b8fa9282",
   "metadata": {},
   "outputs": [
    {
     "data": {
      "text/plain": [
       "8.112892227809415e-20"
      ]
     },
     "execution_count": 26,
     "metadata": {},
     "output_type": "execute_result"
    }
   ],
   "source": [
    "#Calcul de la vraisemblance de «to be or not to be.»\n",
    "calc_vraisemblance(\"to be or not to be.\")"
   ]
  },
  {
   "cell_type": "code",
   "execution_count": null,
   "id": "f9a33ac4",
   "metadata": {},
   "outputs": [],
   "source": []
  },
  {
   "cell_type": "code",
   "execution_count": 27,
   "id": "c8e58803",
   "metadata": {},
   "outputs": [],
   "source": [
    "def calc_vraisemblancef(phrase):\n",
    "    #transformation d'une phrase en une suite detat\n",
    "    dic_invraisemblance={k:v for v,k in dic_vraisemblance.items()}\n",
    "    state_seq = [int(dic_invraisemblance[etat]) for etat in transforme(phrase)]\n",
    "    #Calcul de vraissemblance\n",
    "    vraisemblance = 1 # initialisation\n",
    "    for idx, q_t in enumerate(state_seq[:-1]):\n",
    "        q_tplus1 = state_seq[idx + 1]\n",
    "        vraisemblance *= F_new[q_t-1, q_tplus1-1]   # -1 car l'indexation de E commence à partir de 0\n",
    "    return vraisemblance"
   ]
  },
  {
   "cell_type": "code",
   "execution_count": 28,
   "id": "9e84170d",
   "metadata": {},
   "outputs": [
    {
     "data": {
      "text/plain": [
       "1.145706887234789e-19"
      ]
     },
     "execution_count": 28,
     "metadata": {},
     "output_type": "execute_result"
    }
   ],
   "source": [
    "#Calcul de la vraisemblance de «etre ou ne pas etre.»\n",
    "calc_vraisemblancef(\"etre ou ne pas etre.\")"
   ]
  },
  {
   "cell_type": "code",
   "execution_count": 29,
   "id": "d30c315e",
   "metadata": {},
   "outputs": [
    {
     "data": {
      "text/plain": [
       "4.462288711775253e-24"
      ]
     },
     "execution_count": 29,
     "metadata": {},
     "output_type": "execute_result"
    }
   ],
   "source": [
    "#Calcul de la vraisemblance en anglais de cette même phrase «etre ou ne pas etre.»\n",
    "express = \"etre ou ne pas etre.\"\n",
    "calc_vraisemblance(express)"
   ]
  },
  {
   "cell_type": "markdown",
   "id": "45e9fa7d",
   "metadata": {},
   "source": [
    "Pour se fixer les idées et voir plus clair, prenons quelques exemples de phrases et calculons les vraisemblances en anglais et en français"
   ]
  },
  {
   "cell_type": "code",
   "execution_count": 30,
   "id": "3e36fa07",
   "metadata": {},
   "outputs": [],
   "source": [
    "phrase1=\"cet institut de formation est la meilleure.\"\n",
    "phrase2=\"ce module est genial.\"\n",
    "phrase3=\"le professeur sait donner des choses interessantes pour reussir.\""
   ]
  },
  {
   "cell_type": "code",
   "execution_count": 31,
   "id": "74ca8173",
   "metadata": {},
   "outputs": [
    {
     "name": "stdout",
     "output_type": "stream",
     "text": [
      "Avec le modèle français, on a : 9.511294494864142e-44 et le modèle anglais donne : 1.1475223699235214e-48 \n",
      "La vraisemblance avec le modèle français est lpus élevée :True\n",
      "Avec le modèle français, on : 2.916084575746577e-25 et le modèle anglais donne : 9.542855117597007e-26 \n",
      "La vraisemblance avec le modèle français est lpus élevée :True\n",
      "Avec le modèle français, on : 6.272896857344544e-66 et le modèle anglais donne : 2.1852914433538488e-73 \n",
      "La vraisemblance avec le modèle français est lpus élevée :True\n"
     ]
    }
   ],
   "source": [
    "#Calucl de la vraisemblance de chacune des phrases avec le modèle français suivi du modèle anglais\n",
    "print(\"Avec le modèle français, on a : %s et le modèle anglais donne : %s \" \n",
    "      %(calc_vraisemblancef(phrase1),calc_vraisemblance(phrase1)))\n",
    "#Comparaisons des vraisemblances\n",
    "print(\"La vraisemblance avec le modèle français est lpus élevée :%s\"\n",
    "      %(calc_vraisemblancef(phrase1)>calc_vraisemblance(phrase1)))\n",
    "\n",
    "print(\"Avec le modèle français, on : %s et le modèle anglais donne : %s \"\n",
    "      %(calc_vraisemblancef(phrase2),calc_vraisemblance(phrase2)))\n",
    "print(\"La vraisemblance avec le modèle français est lpus élevée :%s\"\n",
    "      %(calc_vraisemblancef(phrase2)>calc_vraisemblance(phrase2)))\n",
    "\n",
    "print(\"Avec le modèle français, on : %s et le modèle anglais donne : %s \"\n",
    "      %(calc_vraisemblancef(phrase3),calc_vraisemblance(phrase3)))\n",
    "\n",
    "print(\"La vraisemblance avec le modèle français est lpus élevée :%s\"\n",
    "      %(calc_vraisemblancef(phrase3)>calc_vraisemblance(phrase3)))\n"
   ]
  },
  {
   "cell_type": "markdown",
   "id": "f11da8cd",
   "metadata": {},
   "source": [
    "##### Pour ces trois phrases en français, on constate que la vraisemblance avec modèle français est plus élevée."
   ]
  },
  {
   "cell_type": "markdown",
   "id": "77ca423b",
   "metadata": {},
   "source": [
    "Prenons des exemples avec des phrases en anglais"
   ]
  },
  {
   "cell_type": "code",
   "execution_count": 32,
   "id": "1c9536d9",
   "metadata": {},
   "outputs": [],
   "source": [
    "sentence1=\"i am going at school\"\n",
    "sentence2=\"i love machine learning\"\n",
    "sentence3=\"this test learns me wonderful things\""
   ]
  },
  {
   "cell_type": "code",
   "execution_count": 33,
   "id": "3010d287",
   "metadata": {},
   "outputs": [
    {
     "name": "stdout",
     "output_type": "stream",
     "text": [
      "Avec le modèle français, on a : 1.5285650415215667e-37 et le modèle anglais donne : 1.2693803996666022e-24 \n",
      "La vraisemblance avec le modèle français est moins élevée :True\n",
      "Avec le modèle français, on a : 5.762904322106447e-32 et le modèle anglais donne : 1.260075907579091e-25 \n",
      "La vraisemblance avec le modèle français est moins élevée :True\n",
      "Avec le modèle français, on a : 3.001341656443278e-54 et le modèle anglais donne : 5.7788659120719706e-36 \n",
      "La vraisemblance avec le modèle français est moins élevée :True\n"
     ]
    }
   ],
   "source": [
    "#Calucl de la vraisemblance de chacune des phrases avec le modèle français suivi du modèle anglais\n",
    "print(\"Avec le modèle français, on a : %s et le modèle anglais donne : %s \" \n",
    "      %(calc_vraisemblancef(sentence1),calc_vraisemblance(sentence1)))\n",
    "#Comparaisons des vraisemblances\n",
    "print(\"La vraisemblance avec le modèle français est moins élevée :%s\"\n",
    "      %(calc_vraisemblancef(sentence1)<calc_vraisemblance(sentence1)))\n",
    "\n",
    "#Calucl de la vraisemblance de chacune des phrases avec le modèle français suivi du modèle anglais\n",
    "print(\"Avec le modèle français, on a : %s et le modèle anglais donne : %s \" \n",
    "      %(calc_vraisemblancef(sentence2),calc_vraisemblance(sentence2)))\n",
    "#Comparaisons des vraisemblances\n",
    "print(\"La vraisemblance avec le modèle français est moins élevée :%s\"\n",
    "      %(calc_vraisemblancef(sentence2)<calc_vraisemblance(sentence2)))\n",
    "#Calucl de la vraisemblance de chacune des phrases avec le modèle français suivi du modèle anglais\n",
    "print(\"Avec le modèle français, on a : %s et le modèle anglais donne : %s \" \n",
    "      %(calc_vraisemblancef(sentence3),calc_vraisemblance(sentence3)))\n",
    "\n",
    "#Comparaisons des vraisemblancescal\n",
    "print(\"La vraisemblance avec le modèle français est moins élevée :%s\"\n",
    "      %(calc_vraisemblancef(sentence3)<calc_vraisemblance(sentence3)))"
   ]
  },
  {
   "cell_type": "markdown",
   "id": "123c1427",
   "metadata": {},
   "source": [
    "##### On remarque ici que pour ces phrases en anglais, la vraisemblance du modèle anglais est plus élevée."
   ]
  },
  {
   "cell_type": "markdown",
   "id": "85f0c05b",
   "metadata": {},
   "source": [
    "### Mot de la fin"
   ]
  },
  {
   "cell_type": "code",
   "execution_count": 34,
   "id": "a5231aeb",
   "metadata": {},
   "outputs": [],
   "source": [
    "#Essayons avec quelques phrases et/ou expressions particulières\n",
    "expression1=\"le tas sur la table\"\n",
    "expression2=\"la machine est sur la table\""
   ]
  },
  {
   "cell_type": "code",
   "execution_count": 35,
   "id": "534890a5",
   "metadata": {},
   "outputs": [
    {
     "data": {
      "text/plain": [
       "False"
      ]
     },
     "execution_count": 35,
     "metadata": {},
     "output_type": "execute_result"
    }
   ],
   "source": [
    "calc_vraisemblancef(expression1) > calc_vraisemblance(expression1)"
   ]
  },
  {
   "cell_type": "code",
   "execution_count": 36,
   "id": "7cd51f8b",
   "metadata": {},
   "outputs": [
    {
     "data": {
      "text/plain": [
       "False"
      ]
     },
     "execution_count": 36,
     "metadata": {},
     "output_type": "execute_result"
    }
   ],
   "source": [
    "calc_vraisemblancef(expression2) > calc_vraisemblance(expression2)"
   ]
  },
  {
   "cell_type": "markdown",
   "id": "7eb169d3",
   "metadata": {},
   "source": [
    "On peut dire que pour les phrases en anglais, la vraisemblance du modèle anglais est plus élevée que celle du modèle français. De. même pour les phrases en français, la vraisemblance du modèle français est plus élevée que celle du modèle en anglais.\n",
    "\n",
    "Cependant, si nous considérons ceci comme une règle, il faut préciser qu'il y'a des exceptions comme le montre les contre exemple (expression1 et expression2).\n",
    "\n",
    "Nous pouvons alors conclure notre modèle a des limites et pouvons penser à un modèle plus performant."
   ]
  }
 ],
 "metadata": {
  "kernelspec": {
   "display_name": "Python 3 (ipykernel)",
   "language": "python",
   "name": "python3"
  },
  "language_info": {
   "codemirror_mode": {
    "name": "ipython",
    "version": 3
   },
   "file_extension": ".py",
   "mimetype": "text/x-python",
   "name": "python",
   "nbconvert_exporter": "python",
   "pygments_lexer": "ipython3",
   "version": "3.9.16"
  }
 },
 "nbformat": 4,
 "nbformat_minor": 5
}
